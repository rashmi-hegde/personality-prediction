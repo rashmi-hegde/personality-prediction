{
  "nbformat": 4,
  "nbformat_minor": 0,
  "metadata": {
    "colab": {
      "name": "person.ipynb",
      "provenance": [],
      "collapsed_sections": []
    },
    "kernelspec": {
      "name": "python3",
      "display_name": "Python 3"
    }
  },
  "cells": [
    {
      "cell_type": "markdown",
      "metadata": {
        "id": "-0oJGBqbvULq",
        "colab_type": "text"
      },
      "source": [
        "## **PERSONALITY PREDICTION SYSTEM**\n",
        "Simple demostration of using data mining concepts and python data science libraries to analyse and classify personalities of a given set of people or an individual.\n",
        "\n",
        "The project uses learning algorithms and advanced data mining concepts to mine user characteristics data and learn from the patterns.\n",
        "\n",
        "This project will come across areas where it has access to large amounts of person behavioral data. This data can be helpful to classify persons using Automated personality prediction and classification.\n",
        "\n",
        "Five characteristics of different individuals commonly known as big five characteristics namely, openness, neuroticism, conscientiousness, agreeableness and extraversion are stored in a dataset and used for training.\n",
        "\n",
        "**Let's we see about personality prediction data set:**\n",
        " \n",
        " The system analyses user characteristics and behaviors. System then predicts new user personality based on personality data stored by classification of previous user data.\\n\",\n",
        "       \n",
        "**Import the necessary modules and take a look at the data:**"
      ]
    },
    {
      "cell_type": "code",
      "metadata": {
        "id": "aHzQHcITPo8a",
        "colab_type": "code",
        "colab": {}
      },
      "source": [
        "import pandas as pd\n",
        "from numpy import *\n",
        "import numpy as np\n",
        "from sklearn import preprocessing\n",
        "from sklearn import datasets, linear_model\n",
        "from sklearn.metrics import mean_squared_error, r2_score\n",
        "from sklearn import metrics\n",
        "from sklearn import neighbors"
      ],
      "execution_count": null,
      "outputs": []
    },
    {
      "cell_type": "markdown",
      "metadata": {
        "id": "PinkTRybvGLT",
        "colab_type": "text"
      },
      "source": [
        "**Describing dataset**"
      ]
    },
    {
      "cell_type": "code",
      "metadata": {
        "id": "kbWEwNOtP1IA",
        "colab_type": "code",
        "colab": {}
      },
      "source": [
        "data =pd.read_csv('train dataset.csv')\n",
        "array = data.values"
      ],
      "execution_count": null,
      "outputs": []
    },
    {
      "cell_type": "code",
      "metadata": {
        "id": "oxA3xj2yP1pS",
        "colab_type": "code",
        "colab": {}
      },
      "source": [
        "for i in range(len(array)):\n",
        "\tif array[i][0]==\"Male\":\n",
        "\t\tarray[i][0]=1\n",
        "\telse:\n",
        "\t\tarray[i][0]=0\n"
      ],
      "execution_count": null,
      "outputs": []
    },
    {
      "cell_type": "code",
      "metadata": {
        "id": "iFR_pEytP17_",
        "colab_type": "code",
        "colab": {}
      },
      "source": [
        "df=pd.DataFrame(array)"
      ],
      "execution_count": null,
      "outputs": []
    },
    {
      "cell_type": "markdown",
      "metadata": {
        "id": "cL2q1s8vnOIt",
        "colab_type": "text"
      },
      "source": [
        "**source:**"
      ]
    },
    {
      "cell_type": "code",
      "metadata": {
        "id": "xtdnZNn1PxVJ",
        "colab_type": "code",
        "colab": {
          "base_uri": "https://localhost:8080/",
          "height": 139
        },
        "outputId": "9575f028-c067-4814-a3dd-6033078fd5ae"
      },
      "source": [
        "maindf =df[[0,1,2,3,4,5,6]]\n",
        "mainarray=maindf.values\n",
        "print (mainarray)"
      ],
      "execution_count": null,
      "outputs": [
        {
          "output_type": "stream",
          "text": [
            "[[0 17 7 ... 7 3 2]\n",
            " [0 19 4 ... 4 6 6]\n",
            " [0 18 7 ... 4 5 5]\n",
            " ...\n",
            " [0 22 5 ... 3 6 1]\n",
            " [0 19 5 ... 5 7 5]\n",
            " [0 18 5 ... 7 6 5]]\n"
          ],
          "name": "stdout"
        }
      ]
    },
    {
      "cell_type": "code",
      "metadata": {
        "id": "FT_g-RJAQQiY",
        "colab_type": "code",
        "colab": {}
      },
      "source": [
        "temp=df[7]\n",
        "train_y =temp.values\n",
        "# print(train_y)\n",
        "# print(mainarray)\n",
        "train_y=temp.values"
      ],
      "execution_count": null,
      "outputs": []
    },
    {
      "cell_type": "code",
      "metadata": {
        "id": "C48bNnBUQQmp",
        "colab_type": "code",
        "colab": {}
      },
      "source": [
        "for i in range(len(train_y)):\n",
        "\ttrain_y[i] =str(train_y[i])"
      ],
      "execution_count": null,
      "outputs": []
    },
    {
      "cell_type": "code",
      "metadata": {
        "id": "16qH1VC8QjbW",
        "colab_type": "code",
        "colab": {}
      },
      "source": [
        "testdata =pd.read_csv('test dataset.csv')\n",
        "test = testdata.values"
      ],
      "execution_count": null,
      "outputs": []
    },
    {
      "cell_type": "code",
      "metadata": {
        "id": "yTEorks9QoHd",
        "colab_type": "code",
        "colab": {
          "base_uri": "https://localhost:8080/",
          "height": 35
        },
        "outputId": "12eb385d-4e89-49fb-d049-76aca4c2d87c"
      },
      "source": [
        "data.shape"
      ],
      "execution_count": null,
      "outputs": [
        {
          "output_type": "execute_result",
          "data": {
            "text/plain": [
              "(709, 8)"
            ]
          },
          "metadata": {
            "tags": []
          },
          "execution_count": 15
        }
      ]
    },
    {
      "cell_type": "markdown",
      "metadata": {
        "id": "_5F8z3Ds-4h6",
        "colab_type": "text"
      },
      "source": [
        "**logisticRegression:**"
      ]
    },
    {
      "cell_type": "code",
      "metadata": {
        "id": "iOv1WEGIQQhI",
        "colab_type": "code",
        "colab": {
          "base_uri": "https://localhost:8080/",
          "height": 104
        },
        "outputId": "f313ec9d-c673-45a8-dd51-0c6894354106"
      },
      "source": [
        "mul_lr = linear_model.LogisticRegression(multi_class='multinomial', solver='newton-cg',max_iter =1000)\n",
        "mul_lr.fit(mainarray, train_y)"
      ],
      "execution_count": null,
      "outputs": [
        {
          "output_type": "execute_result",
          "data": {
            "text/plain": [
              "LogisticRegression(C=1.0, class_weight=None, dual=False, fit_intercept=True,\n",
              "                   intercept_scaling=1, l1_ratio=None, max_iter=1000,\n",
              "                   multi_class='multinomial', n_jobs=None, penalty='l2',\n",
              "                   random_state=None, solver='newton-cg', tol=0.0001, verbose=0,\n",
              "                   warm_start=False)"
            ]
          },
          "metadata": {
            "tags": []
          },
          "execution_count": 12
        }
      ]
    },
    {
      "cell_type": "markdown",
      "metadata": {
        "id": "Ie-F60vG-0TU",
        "colab_type": "text"
      },
      "source": [
        "**test data:**"
      ]
    },
    {
      "cell_type": "code",
      "metadata": {
        "id": "eLy6QJRkQskd",
        "colab_type": "code",
        "colab": {
          "base_uri": "https://localhost:8080/",
          "height": 294
        },
        "outputId": "aed25819-eb00-4f90-d9fc-95c85d171ca1"
      },
      "source": [
        "testdata.describe()"
      ],
      "execution_count": null,
      "outputs": [
        {
          "output_type": "execute_result",
          "data": {
            "text/html": [
              "<div>\n",
              "<style scoped>\n",
              "    .dataframe tbody tr th:only-of-type {\n",
              "        vertical-align: middle;\n",
              "    }\n",
              "\n",
              "    .dataframe tbody tr th {\n",
              "        vertical-align: top;\n",
              "    }\n",
              "\n",
              "    .dataframe thead th {\n",
              "        text-align: right;\n",
              "    }\n",
              "</style>\n",
              "<table border=\"1\" class=\"dataframe\">\n",
              "  <thead>\n",
              "    <tr style=\"text-align: right;\">\n",
              "      <th></th>\n",
              "      <th>Age</th>\n",
              "      <th>openness</th>\n",
              "      <th>neuroticism</th>\n",
              "      <th>conscientiousness</th>\n",
              "      <th>agreeableness</th>\n",
              "      <th>extraversion</th>\n",
              "    </tr>\n",
              "  </thead>\n",
              "  <tbody>\n",
              "    <tr>\n",
              "      <th>count</th>\n",
              "      <td>315.000000</td>\n",
              "      <td>315.000000</td>\n",
              "      <td>315.000000</td>\n",
              "      <td>315.000000</td>\n",
              "      <td>315.000000</td>\n",
              "      <td>315.000000</td>\n",
              "    </tr>\n",
              "    <tr>\n",
              "      <th>mean</th>\n",
              "      <td>20.244444</td>\n",
              "      <td>4.850794</td>\n",
              "      <td>4.584127</td>\n",
              "      <td>4.812698</td>\n",
              "      <td>4.844444</td>\n",
              "      <td>4.926984</td>\n",
              "    </tr>\n",
              "    <tr>\n",
              "      <th>std</th>\n",
              "      <td>2.616811</td>\n",
              "      <td>1.537211</td>\n",
              "      <td>1.818623</td>\n",
              "      <td>1.786315</td>\n",
              "      <td>1.718555</td>\n",
              "      <td>1.466527</td>\n",
              "    </tr>\n",
              "    <tr>\n",
              "      <th>min</th>\n",
              "      <td>5.000000</td>\n",
              "      <td>1.000000</td>\n",
              "      <td>1.000000</td>\n",
              "      <td>1.000000</td>\n",
              "      <td>1.000000</td>\n",
              "      <td>1.000000</td>\n",
              "    </tr>\n",
              "    <tr>\n",
              "      <th>25%</th>\n",
              "      <td>18.000000</td>\n",
              "      <td>4.000000</td>\n",
              "      <td>3.000000</td>\n",
              "      <td>4.000000</td>\n",
              "      <td>4.000000</td>\n",
              "      <td>4.000000</td>\n",
              "    </tr>\n",
              "    <tr>\n",
              "      <th>50%</th>\n",
              "      <td>20.000000</td>\n",
              "      <td>5.000000</td>\n",
              "      <td>5.000000</td>\n",
              "      <td>5.000000</td>\n",
              "      <td>5.000000</td>\n",
              "      <td>5.000000</td>\n",
              "    </tr>\n",
              "    <tr>\n",
              "      <th>75%</th>\n",
              "      <td>22.000000</td>\n",
              "      <td>6.000000</td>\n",
              "      <td>6.000000</td>\n",
              "      <td>6.000000</td>\n",
              "      <td>6.000000</td>\n",
              "      <td>6.000000</td>\n",
              "    </tr>\n",
              "    <tr>\n",
              "      <th>max</th>\n",
              "      <td>28.000000</td>\n",
              "      <td>8.000000</td>\n",
              "      <td>9.000000</td>\n",
              "      <td>9.000000</td>\n",
              "      <td>8.000000</td>\n",
              "      <td>8.000000</td>\n",
              "    </tr>\n",
              "  </tbody>\n",
              "</table>\n",
              "</div>"
            ],
            "text/plain": [
              "              Age    openness  ...  agreeableness  extraversion\n",
              "count  315.000000  315.000000  ...     315.000000    315.000000\n",
              "mean    20.244444    4.850794  ...       4.844444      4.926984\n",
              "std      2.616811    1.537211  ...       1.718555      1.466527\n",
              "min      5.000000    1.000000  ...       1.000000      1.000000\n",
              "25%     18.000000    4.000000  ...       4.000000      4.000000\n",
              "50%     20.000000    5.000000  ...       5.000000      5.000000\n",
              "75%     22.000000    6.000000  ...       6.000000      6.000000\n",
              "max     28.000000    8.000000  ...       8.000000      8.000000\n",
              "\n",
              "[8 rows x 6 columns]"
            ]
          },
          "metadata": {
            "tags": []
          },
          "execution_count": 16
        }
      ]
    },
    {
      "cell_type": "code",
      "metadata": {
        "id": "Rpg7nVa_Qwr4",
        "colab_type": "code",
        "colab": {
          "base_uri": "https://localhost:8080/",
          "height": 35
        },
        "outputId": "16bac893-65cc-4313-9f0d-968c555cd2fd"
      },
      "source": [
        "testdata.shape"
      ],
      "execution_count": null,
      "outputs": [
        {
          "output_type": "execute_result",
          "data": {
            "text/plain": [
              "(315, 8)"
            ]
          },
          "metadata": {
            "tags": []
          },
          "execution_count": 17
        }
      ]
    },
    {
      "cell_type": "code",
      "metadata": {
        "id": "s5UEwTYkQ0Mw",
        "colab_type": "code",
        "colab": {}
      },
      "source": [
        "for i in range(len(test)):\n",
        "\tif test[i][0]==\"Male\":\n",
        "\t\ttest[i][0]=1\n",
        "\telse:\n",
        "\t\ttest[i][0]=0"
      ],
      "execution_count": null,
      "outputs": []
    },
    {
      "cell_type": "code",
      "metadata": {
        "id": "H2lgosaVQ1Kf",
        "colab_type": "code",
        "colab": {}
      },
      "source": [
        "df1=pd.DataFrame(test)"
      ],
      "execution_count": null,
      "outputs": []
    },
    {
      "cell_type": "code",
      "metadata": {
        "id": "DXnVvJ60Q4Io",
        "colab_type": "code",
        "colab": {
          "base_uri": "https://localhost:8080/",
          "height": 139
        },
        "outputId": "f3a82853-c292-4483-e4cb-daf42c85a06b"
      },
      "source": [
        "testdf =df1[[0,1,2,3,4,5,6]]\n",
        "maintestarray=testdf.values\n",
        "print(maintestarray)"
      ],
      "execution_count": null,
      "outputs": [
        {
          "output_type": "stream",
          "text": [
            "[[0 20 7 ... 9 5 5]\n",
            " [1 17 5 ... 5 2 4]\n",
            " [0 25 5 ... 7 2 4]\n",
            " ...\n",
            " [1 18 7 ... 6 2 7]\n",
            " [1 23 6 ... 5 4 3]\n",
            " [0 18 5 ... 3 5 6]]\n"
          ],
          "name": "stdout"
        }
      ]
    },
    {
      "cell_type": "code",
      "metadata": {
        "id": "sxxMf9WxQ8Hj",
        "colab_type": "code",
        "colab": {}
      },
      "source": [
        "y_pred = mul_lr.predict(maintestarray)\n",
        "for i in range(len(y_pred)) :\n",
        "\ty_pred[i]=str((y_pred[i]))\n",
        "DF = pd.DataFrame(y_pred,columns=['Predicted-Personality'])\n",
        "DF.index=DF.index+1\n",
        "DF.index.names = ['Person-No']\n",
        "DF.to_csv(\"out.csv\")"
      ],
      "execution_count": null,
      "outputs": []
    },
    {
      "cell_type": "markdown",
      "metadata": {
        "id": "AHNyblNi_SGO",
        "colab_type": "text"
      },
      "source": [
        "**output:**"
      ]
    },
    {
      "cell_type": "code",
      "metadata": {
        "id": "xRKmFawNRrC8",
        "colab_type": "code",
        "colab": {
          "base_uri": "https://localhost:8080/",
          "height": 415
        },
        "outputId": "ddc75524-0371-4674-87d2-2ae4d0ba149d"
      },
      "source": [
        "output=pd.read_csv('out.csv')\n",
        "output"
      ],
      "execution_count": null,
      "outputs": [
        {
          "output_type": "execute_result",
          "data": {
            "text/html": [
              "<div>\n",
              "<style scoped>\n",
              "    .dataframe tbody tr th:only-of-type {\n",
              "        vertical-align: middle;\n",
              "    }\n",
              "\n",
              "    .dataframe tbody tr th {\n",
              "        vertical-align: top;\n",
              "    }\n",
              "\n",
              "    .dataframe thead th {\n",
              "        text-align: right;\n",
              "    }\n",
              "</style>\n",
              "<table border=\"1\" class=\"dataframe\">\n",
              "  <thead>\n",
              "    <tr style=\"text-align: right;\">\n",
              "      <th></th>\n",
              "      <th>Person-No</th>\n",
              "      <th>Predicted-Personality</th>\n",
              "    </tr>\n",
              "  </thead>\n",
              "  <tbody>\n",
              "    <tr>\n",
              "      <th>0</th>\n",
              "      <td>1</td>\n",
              "      <td>dependable</td>\n",
              "    </tr>\n",
              "    <tr>\n",
              "      <th>1</th>\n",
              "      <td>2</td>\n",
              "      <td>responsible</td>\n",
              "    </tr>\n",
              "    <tr>\n",
              "      <th>2</th>\n",
              "      <td>3</td>\n",
              "      <td>serious</td>\n",
              "    </tr>\n",
              "    <tr>\n",
              "      <th>3</th>\n",
              "      <td>4</td>\n",
              "      <td>serious</td>\n",
              "    </tr>\n",
              "    <tr>\n",
              "      <th>4</th>\n",
              "      <td>5</td>\n",
              "      <td>responsible</td>\n",
              "    </tr>\n",
              "    <tr>\n",
              "      <th>...</th>\n",
              "      <td>...</td>\n",
              "      <td>...</td>\n",
              "    </tr>\n",
              "    <tr>\n",
              "      <th>310</th>\n",
              "      <td>311</td>\n",
              "      <td>lively</td>\n",
              "    </tr>\n",
              "    <tr>\n",
              "      <th>311</th>\n",
              "      <td>312</td>\n",
              "      <td>serious</td>\n",
              "    </tr>\n",
              "    <tr>\n",
              "      <th>312</th>\n",
              "      <td>313</td>\n",
              "      <td>dependable</td>\n",
              "    </tr>\n",
              "    <tr>\n",
              "      <th>313</th>\n",
              "      <td>314</td>\n",
              "      <td>extraverted</td>\n",
              "    </tr>\n",
              "    <tr>\n",
              "      <th>314</th>\n",
              "      <td>315</td>\n",
              "      <td>extraverted</td>\n",
              "    </tr>\n",
              "  </tbody>\n",
              "</table>\n",
              "<p>315 rows × 2 columns</p>\n",
              "</div>"
            ],
            "text/plain": [
              "     Person-No Predicted-Personality\n",
              "0            1            dependable\n",
              "1            2           responsible\n",
              "2            3               serious\n",
              "3            4               serious\n",
              "4            5           responsible\n",
              "..         ...                   ...\n",
              "310        311                lively\n",
              "311        312               serious\n",
              "312        313            dependable\n",
              "313        314           extraverted\n",
              "314        315           extraverted\n",
              "\n",
              "[315 rows x 2 columns]"
            ]
          },
          "metadata": {
            "tags": []
          },
          "execution_count": 22
        }
      ]
    },
    {
      "cell_type": "markdown",
      "metadata": {
        "id": "V1vM6u06AocU",
        "colab_type": "text"
      },
      "source": [
        "**bar chart for data age values:**\n"
      ]
    },
    {
      "cell_type": "code",
      "metadata": {
        "id": "v8VhWclOR00e",
        "colab_type": "code",
        "colab": {
          "base_uri": "https://localhost:8080/",
          "height": 285
        },
        "outputId": "0c648895-348b-488b-c6b5-fa14e3227da2"
      },
      "source": [
        "data.Age.value_counts().plot.bar()"
      ],
      "execution_count": null,
      "outputs": [
        {
          "output_type": "execute_result",
          "data": {
            "text/plain": [
              "<matplotlib.axes._subplots.AxesSubplot at 0x7fd91538f390>"
            ]
          },
          "metadata": {
            "tags": []
          },
          "execution_count": 23
        },
        {
          "output_type": "display_data",
          "data": {
            "image/png": "[encoded data removed]",
            "text/plain": [
              "<Figure size 432x288 with 1 Axes>"
            ]
          },
          "metadata": {
            "tags": [],
            "needs_background": "light"
          }
        }
      ]
    },
    {
      "cell_type": "markdown",
      "metadata": {
        "id": "l35euHr_ALDs",
        "colab_type": "text"
      },
      "source": [
        "**ouput: predicted-personality**"
      ]
    },
    {
      "cell_type": "code",
      "metadata": {
        "id": "u80RjLGMR2RU",
        "colab_type": "code",
        "colab": {
          "base_uri": "https://localhost:8080/",
          "height": 331
        },
        "outputId": "12ff254c-0730-497f-df38-55b33911d963"
      },
      "source": [
        "output[\"Predicted-Personality\"].value_counts().plot.bar()"
      ],
      "execution_count": null,
      "outputs": [
        {
          "output_type": "execute_result",
          "data": {
            "text/plain": [
              "<matplotlib.axes._subplots.AxesSubplot at 0x7fd91528c080>"
            ]
          },
          "metadata": {
            "tags": []
          },
          "execution_count": 24
        },
        {
          "output_type": "display_data",
          "data": {
            "image/png": "[encoded data removed]",
            "text/plain": [
              "<Figure size 432x288 with 1 Axes>"
            ]
          },
          "metadata": {
            "tags": [],
            "needs_background": "light"
          }
        }
      ]
    },
    {
      "cell_type": "markdown",
      "metadata": {
        "id": "HLMNipe9PxtM",
        "colab_type": "text"
      },
      "source": [
        ""
      ]
    }
  ]
}